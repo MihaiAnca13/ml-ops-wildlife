{
 "cells": [
  {
   "metadata": {
    "ExecuteTime": {
     "end_time": "2024-11-17T13:23:04.568067Z",
     "start_time": "2024-11-17T13:23:04.563911Z"
    }
   },
   "cell_type": "code",
   "source": [
    "from functools import partial\n",
    "\n",
    "from torch import nn\n",
    "from torchvision.models.detection import retinanet_resnet50_fpn_v2, RetinaNet_ResNet50_FPN_V2_Weights\n",
    "from torchvision.models.detection.retinanet import RetinaNetHead\n",
    "from torchvision import transforms\n",
    "\n",
    "from my_utils.dataset_loader import ObjectDetectionDataset, DatasetMode, simple_collate_fn\n",
    "from torch.utils.data import DataLoader\n",
    "import torch\n",
    "import mlflow"
   ],
   "id": "2bdef067ef432352",
   "outputs": [],
   "execution_count": 16
  },
  {
   "metadata": {
    "ExecuteTime": {
     "end_time": "2024-11-17T13:23:07.626386Z",
     "start_time": "2024-11-17T13:23:04.818064Z"
    }
   },
   "cell_type": "code",
   "source": [
    "train_dataset = ObjectDetectionDataset(\n",
    "    data_dir=\"D:\\\\Projects\\\\ml-ops-wildlife\\\\data\\\\WAID\",\n",
    "    mode=DatasetMode.TRAIN,\n",
    "    transform=RetinaNet_ResNet50_FPN_V2_Weights.DEFAULT.transforms(),\n",
    ")\n",
    "val_dataset = ObjectDetectionDataset(\n",
    "    data_dir=\"D:\\\\Projects\\\\ml-ops-wildlife\\\\data\\\\WAID\",\n",
    "    mode=DatasetMode.VAL,\n",
    "    transform=RetinaNet_ResNet50_FPN_V2_Weights.DEFAULT.transforms(),\n",
    ")\n",
    "train_dataloader = DataLoader(train_dataset, batch_size=2, shuffle=True, num_workers=2, collate_fn=simple_collate_fn)\n",
    "val_dataloader = DataLoader(val_dataset, batch_size=16, shuffle=False, num_workers=4, collate_fn=simple_collate_fn)\n",
    "\n",
    "device = torch.device(\"cuda\") if torch.cuda.is_available() else torch.device(\"cpu\")"
   ],
   "id": "54d9807ebf9b368e",
   "outputs": [
    {
     "name": "stderr",
     "output_type": "stream",
     "text": [
      "Loading labels: 100%|██████████| 10056/10056 [00:02<00:00, 4614.96it/s]\n",
      "Loading labels: 100%|██████████| 2873/2873 [00:00<00:00, 5084.77it/s]\n"
     ]
    }
   ],
   "execution_count": 17
  },
  {
   "metadata": {
    "ExecuteTime": {
     "end_time": "2024-11-17T13:24:25.786581Z",
     "start_time": "2024-11-17T13:24:25.783334Z"
    }
   },
   "cell_type": "code",
   "source": [
    "num_epochs = 3\n",
    "image_size = 640  # Image size used for resizing (assumed square)"
   ],
   "id": "57c2b11a265826f2",
   "outputs": [],
   "execution_count": 21
  },
  {
   "metadata": {
    "ExecuteTime": {
     "end_time": "2024-11-17T13:32:04.906025Z",
     "start_time": "2024-11-17T13:32:04.232293Z"
    }
   },
   "cell_type": "code",
   "source": [
    "model = retinanet_resnet50_fpn_v2(weights=RetinaNet_ResNet50_FPN_V2_Weights.DEFAULT,\n",
    "                                  trainable_backbone_layers=3)\n",
    "\n",
    "# set model output to 7 classes (6 classes + 1 background)\n",
    "num_classes = 6\n",
    "in_features = model.backbone.out_channels\n",
    "num_anchors = model.anchor_generator.num_anchors_per_location()[0]\n",
    "model.head = RetinaNetHead(in_features, num_anchors, num_classes, norm_layer=partial(nn.GroupNorm, 32))\n",
    "\n",
    "model.train()\n",
    "model.to(device)\n",
    "\n",
    "optimizer = torch.optim.Adam(model.parameters(), lr=0.001)"
   ],
   "id": "fefe4cf0ea8a8390",
   "outputs": [],
   "execution_count": 33
  },
  {
   "metadata": {
    "ExecuteTime": {
     "end_time": "2024-11-17T13:32:29.936293Z",
     "start_time": "2024-11-17T13:32:06.002969Z"
    }
   },
   "cell_type": "code",
   "source": [
    "for epoch in range(num_epochs):\n",
    "    for batch_nr, (images, class_ids, bboxes) in enumerate(train_dataloader):\n",
    "        images = images.to(device)\n",
    "\n",
    "        # Prepare targets for the batch\n",
    "        targets = []\n",
    "        for img_idx in range(len(images)):  # Loop over each image in the batch\n",
    "            # Combine all boxes and labels for the current image\n",
    "            scaled_bboxes = []\n",
    "            labels = []\n",
    "\n",
    "            for box, label in zip(bboxes[img_idx], class_ids[img_idx]):\n",
    "                x_min, y_min, width, height = box  # Unpack bbox in (x, y, w, h) format\n",
    "                # Scale and convert to [x_min, y_min, x_max, y_max]\n",
    "                scaled_box = torch.tensor([x_min, y_min, x_min + width, y_min + height]) * image_size\n",
    "                scaled_bboxes.append(scaled_box)\n",
    "                labels.append(label)\n",
    "\n",
    "            # Convert to Tensors\n",
    "            scaled_bboxes = torch.stack(scaled_bboxes).to(device)\n",
    "            labels = torch.tensor(labels).to(device)\n",
    "\n",
    "            # Create target dictionary for the image\n",
    "            target = {\n",
    "                \"boxes\": scaled_bboxes,\n",
    "                \"labels\": labels,\n",
    "            }\n",
    "            targets.append(target)\n",
    "\n",
    "        optimizer.zero_grad()\n",
    "        outputs = model(images, targets)\n",
    "        loss = sum(loss for loss in outputs.values())\n",
    "        loss.backward()\n",
    "        optimizer.step()"
   ],
   "id": "3aa25d841884b958",
   "outputs": [],
   "execution_count": 34
  },
  {
   "metadata": {},
   "cell_type": "code",
   "outputs": [],
   "execution_count": null,
   "source": "",
   "id": "58b0df3c538e0c11"
  }
 ],
 "metadata": {
  "kernelspec": {
   "display_name": "Python 3",
   "language": "python",
   "name": "python3"
  },
  "language_info": {
   "codemirror_mode": {
    "name": "ipython",
    "version": 2
   },
   "file_extension": ".py",
   "mimetype": "text/x-python",
   "name": "python",
   "nbconvert_exporter": "python",
   "pygments_lexer": "ipython2",
   "version": "2.7.6"
  }
 },
 "nbformat": 4,
 "nbformat_minor": 5
}
